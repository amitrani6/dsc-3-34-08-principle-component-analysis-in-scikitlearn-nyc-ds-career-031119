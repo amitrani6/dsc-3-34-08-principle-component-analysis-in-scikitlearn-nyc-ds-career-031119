{
 "cells": [
  {
   "cell_type": "markdown",
   "metadata": {},
   "source": [
    "# Performing Principal Component Analysis (PCA)\n",
    "\n",
    "## Introduction\n",
    "\n",
    "In this lesson, you'll code PCA from the ground up using NumPy. This should provide you with a deeper understanding of the algorithm and continue to practice your linear algebra skills.\n",
    "\n",
    "## Objectives\n",
    "\n",
    "You will be able to:\n",
    "\n",
    "- Understand the steps required to perform PCA on a given dataset\n",
    "- Understand and explain the role of Eigen decomposition in PCA\n"
   ]
  },
  {
   "cell_type": "markdown",
   "metadata": {},
   "source": [
    "## Step 1: Get some data\n",
    "\n",
    "To start, generate some data for PCA!"
   ]
  },
  {
   "cell_type": "code",
   "execution_count": 2,
   "metadata": {},
   "outputs": [
    {
     "data": {
      "image/png": "[encoded data removed]",
      "text/plain": [
       "<Figure size 432x288 with 1 Axes>"
      ]
     },
     "metadata": {
      "needs_background": "light"
     },
     "output_type": "display_data"
    }
   ],
   "source": [
    "import numpy as np\n",
    "import matplotlib.pyplot as plt\n",
    "%matplotlib inline\n",
    "\n",
    "x1 = np.random.uniform(low=0, high=10, size=100)\n",
    "x2 = [(xi*3)+np.random.normal(scale=2) for xi in x1]\n",
    "plt.scatter(x1,x2);"
   ]
  },
  {
   "cell_type": "markdown",
   "metadata": {},
   "source": [
    "## Step 2: Subtract the mean\n",
    "\n",
    "Next, you have to subtract the mean from each dimension of the data. So, all the $x$ values\n",
    "have $\\bar{x}$ (the mean of the $x$ values of all the data points) subtracted, and all the $y$ values\n",
    "have $\\bar{y}$ subtracted from them. "
   ]
  },
  {
   "cell_type": "code",
   "execution_count": 3,
   "metadata": {},
   "outputs": [
    {
     "data": {
      "text/html": [
       "<div>\n",
       "<style scoped>\n",
       "    .dataframe tbody tr th:only-of-type {\n",
       "        vertical-align: middle;\n",
       "    }\n",
       "\n",
       "    .dataframe tbody tr th {\n",
       "        vertical-align: top;\n",
       "    }\n",
       "\n",
       "    .dataframe thead th {\n",
       "        text-align: right;\n",
       "    }\n",
       "</style>\n",
       "<table border=\"1\" class=\"dataframe\">\n",
       "  <thead>\n",
       "    <tr style=\"text-align: right;\">\n",
       "      <th></th>\n",
       "      <th>x1</th>\n",
       "      <th>x2</th>\n",
       "    </tr>\n",
       "  </thead>\n",
       "  <tbody>\n",
       "    <tr>\n",
       "      <th>0</th>\n",
       "      <td>7.282361</td>\n",
       "      <td>19.027095</td>\n",
       "    </tr>\n",
       "    <tr>\n",
       "      <th>1</th>\n",
       "      <td>5.724558</td>\n",
       "      <td>14.949258</td>\n",
       "    </tr>\n",
       "    <tr>\n",
       "      <th>2</th>\n",
       "      <td>2.930366</td>\n",
       "      <td>7.759901</td>\n",
       "    </tr>\n",
       "    <tr>\n",
       "      <th>3</th>\n",
       "      <td>3.040564</td>\n",
       "      <td>12.048387</td>\n",
       "    </tr>\n",
       "    <tr>\n",
       "      <th>4</th>\n",
       "      <td>2.027343</td>\n",
       "      <td>5.893725</td>\n",
       "    </tr>\n",
       "  </tbody>\n",
       "</table>\n",
       "</div>"
      ],
      "text/plain": [
       "         x1         x2\n",
       "0  7.282361  19.027095\n",
       "1  5.724558  14.949258\n",
       "2  2.930366   7.759901\n",
       "3  3.040564  12.048387\n",
       "4  2.027343   5.893725"
      ]
     },
     "execution_count": 3,
     "metadata": {},
     "output_type": "execute_result"
    }
   ],
   "source": [
    "import pandas as pd\n",
    "\n",
    "data = pd.DataFrame([x1,x2]).transpose()\n",
    "data.columns = ['x1', 'x2']\n",
    "data.head()"
   ]
  },
  {
   "cell_type": "code",
   "execution_count": 4,
   "metadata": {},
   "outputs": [
    {
     "data": {
      "text/plain": [
       "x1     5.158192\n",
       "x2    15.834615\n",
       "dtype: float64"
      ]
     },
     "execution_count": 4,
     "metadata": {},
     "output_type": "execute_result"
    }
   ],
   "source": [
    "data.mean()"
   ]
  },
  {
   "cell_type": "code",
   "execution_count": 5,
   "metadata": {},
   "outputs": [
    {
     "data": {
      "text/html": [
       "<div>\n",
       "<style scoped>\n",
       "    .dataframe tbody tr th:only-of-type {\n",
       "        vertical-align: middle;\n",
       "    }\n",
       "\n",
       "    .dataframe tbody tr th {\n",
       "        vertical-align: top;\n",
       "    }\n",
       "\n",
       "    .dataframe thead th {\n",
       "        text-align: right;\n",
       "    }\n",
       "</style>\n",
       "<table border=\"1\" class=\"dataframe\">\n",
       "  <thead>\n",
       "    <tr style=\"text-align: right;\">\n",
       "      <th></th>\n",
       "      <th>x1</th>\n",
       "      <th>x2</th>\n",
       "    </tr>\n",
       "  </thead>\n",
       "  <tbody>\n",
       "    <tr>\n",
       "      <th>0</th>\n",
       "      <td>2.124169</td>\n",
       "      <td>3.192479</td>\n",
       "    </tr>\n",
       "    <tr>\n",
       "      <th>1</th>\n",
       "      <td>0.566366</td>\n",
       "      <td>-0.885357</td>\n",
       "    </tr>\n",
       "    <tr>\n",
       "      <th>2</th>\n",
       "      <td>-2.227825</td>\n",
       "      <td>-8.074715</td>\n",
       "    </tr>\n",
       "    <tr>\n",
       "      <th>3</th>\n",
       "      <td>-2.117628</td>\n",
       "      <td>-3.786229</td>\n",
       "    </tr>\n",
       "    <tr>\n",
       "      <th>4</th>\n",
       "      <td>-3.130849</td>\n",
       "      <td>-9.940890</td>\n",
       "    </tr>\n",
       "  </tbody>\n",
       "</table>\n",
       "</div>"
      ],
      "text/plain": [
       "         x1        x2\n",
       "0  2.124169  3.192479\n",
       "1  0.566366 -0.885357\n",
       "2 -2.227825 -8.074715\n",
       "3 -2.117628 -3.786229\n",
       "4 -3.130849 -9.940890"
      ]
     },
     "execution_count": 5,
     "metadata": {},
     "output_type": "execute_result"
    }
   ],
   "source": [
    "mean_centered = data - data.mean()\n",
    "mean_centered.head()"
   ]
  },
  {
   "cell_type": "markdown",
   "metadata": {},
   "source": [
    "## Step 3: Calculate the covariance matrix\n",
    "\n",
    "Now that you have normalized your data, you must now calculate the covariance matrix."
   ]
  },
  {
   "cell_type": "code",
   "execution_count": 6,
   "metadata": {},
   "outputs": [
    {
     "data": {
      "text/plain": [
       "array([[ 8.39854093, 25.02890071],\n",
       "       [25.02890071, 79.17458368]])"
      ]
     },
     "execution_count": 6,
     "metadata": {},
     "output_type": "execute_result"
    }
   ],
   "source": [
    "cov = np.cov([mean_centered.x1, mean_centered.x2])\n",
    "cov"
   ]
  },
  {
   "cell_type": "markdown",
   "metadata": {},
   "source": [
    "## Step 4: Calculate the eigenvectors and eigenvalues of the covariance matrix\n",
    "\n",
    "Now that you've calculated the covariance matrix, its time to compute the associated eigenvectors. These will form the new axes when its time to reproject the dataset on the new basis."
   ]
  },
  {
   "cell_type": "code",
   "execution_count": 7,
   "metadata": {},
   "outputs": [
    {
     "data": {
      "text/plain": [
       "array([[-0.95300409, -0.30295743],\n",
       "       [ 0.30295743, -0.95300409]])"
      ]
     },
     "execution_count": 7,
     "metadata": {},
     "output_type": "execute_result"
    }
   ],
   "source": [
    "eigen_value, eigen_vector = np.linalg.eig(cov)\n",
    "eigen_vector"
   ]
  },
  {
   "cell_type": "code",
   "execution_count": 8,
   "metadata": {},
   "outputs": [
    {
     "data": {
      "text/plain": [
       "array([ 0.44192103, 87.13120358])"
      ]
     },
     "execution_count": 8,
     "metadata": {},
     "output_type": "execute_result"
    }
   ],
   "source": [
    "eigen_value"
   ]
  },
  {
   "cell_type": "markdown",
   "metadata": {},
   "source": [
    "## Step 5: Choosing components and forming a feature vector\n",
    "\n",
    "If you look at the eigenvectors and eigenvalues above, you can see that the eigenvalues have very different values. In fact, it turns out that **the eigenvector with the highest eigenvalue is the principal component of the data set.**\n",
    "\n",
    "\n",
    "In general, once eigenvectors are found from the covariance matrix, the next step is to order them by eigenvalue, highest to lowest. This gives us the components in order of significance. Typically, PCA will be used to reduce the dimensionality of the dataset and, as such, some of these eigenvectors will be subsequently discarded. In general, the smaller the eigenvalue relative to others, the less information encoded within said feature.\n",
    "\n",
    "Finally, you need to form a __feature vector__, which is just a fancy name for a matrix of vectors. This is constructed by taking the eigenvectors that you want to keep from the list of eigenvectors, and forming a matrix with these eigenvectors in the columns as shown below:"
   ]
  },
  {
   "cell_type": "code",
   "execution_count": 9,
   "metadata": {},
   "outputs": [
    {
     "data": {
      "text/plain": [
       "array([[-0.30295743, -0.95300409],\n",
       "       [-0.95300409,  0.30295743]])"
      ]
     },
     "execution_count": 9,
     "metadata": {},
     "output_type": "execute_result"
    }
   ],
   "source": [
    "e_indices = np.argsort(eigen_value)[::-1] #Get the index values of the sorted eigenvalues\n",
    "eigenvectors_sorted = eigen_vector[:,e_indices]\n",
    "eigenvectors_sorted"
   ]
  },
  {
   "cell_type": "markdown",
   "metadata": {},
   "source": [
    "## Step 5: Deriving the new data set"
   ]
  },
  {
   "cell_type": "markdown",
   "metadata": {},
   "source": [
    "This the final step in PCA, and is also the easiest. Once you have chosen the components (eigenvectors) that you wish to keep in our data and formed a feature vector, you simply take the transpose of the vector and multiply it on the left of the original data set, transposed."
   ]
  },
  {
   "cell_type": "code",
   "execution_count": 10,
   "metadata": {},
   "outputs": [
    {
     "data": {
      "text/plain": [
       "array([[-3.68597887e+00, -1.05715676e+00],\n",
       "       [ 6.72164411e-01, -8.07974807e-01],\n",
       "       [ 8.37017251e+00, -3.23168110e-01],\n",
       "       [ 4.24984256e+00,  8.71041999e-01],\n",
       "       [ 1.04222228e+01, -2.79549249e-02],\n",
       "       [-1.14488600e+01, -4.70932116e-01],\n",
       "       [-1.80616105e+00,  4.60881906e-01],\n",
       "       [ 1.24638734e+01,  8.66852709e-01],\n",
       "       [ 1.06950991e+01, -4.43761070e-01],\n",
       "       [-4.51720080e+00,  5.65028027e-03],\n",
       "       [ 6.53928380e+00,  6.54731402e-01],\n",
       "       [-8.55832487e+00,  6.59329646e-02],\n",
       "       [-9.20881612e+00, -6.64042004e-01],\n",
       "       [ 1.69543686e+01,  2.23560955e-02],\n",
       "       [ 1.34185502e+01,  4.52254023e-01],\n",
       "       [ 3.56763032e+00, -5.64020315e-01],\n",
       "       [-1.56726538e+01,  2.72687937e-01],\n",
       "       [-5.06429800e+00, -4.53745649e-01],\n",
       "       [-1.37760417e+01,  1.03185548e+00],\n",
       "       [ 1.50315988e+01,  1.23298733e-01],\n",
       "       [ 1.41019369e+01,  8.71651929e-01],\n",
       "       [-4.19991217e+00,  1.02755972e+00],\n",
       "       [ 2.96490917e+00, -9.38432497e-01],\n",
       "       [-1.03923344e+01,  1.19751669e+00],\n",
       "       [ 3.31423571e+00, -3.68977728e-01],\n",
       "       [ 5.31070079e+00,  2.92025876e-01],\n",
       "       [-4.28659684e+00, -3.43887553e-01],\n",
       "       [-9.26772753e+00, -7.89006278e-01],\n",
       "       [ 9.91474370e+00,  8.74092225e-01],\n",
       "       [ 1.15133050e+01,  2.99713024e-01],\n",
       "       [-4.00504855e+00, -7.32024637e-01],\n",
       "       [-7.28058613e+00,  1.11676766e-01],\n",
       "       [ 6.17558642e+00,  1.13743788e-01],\n",
       "       [-1.65244869e+01,  3.49090265e-01],\n",
       "       [ 1.17097611e+01, -4.20431305e-01],\n",
       "       [-9.95060411e+00,  5.58918346e-01],\n",
       "       [-1.03863934e+01,  8.75823689e-01],\n",
       "       [-8.03714891e+00,  5.97357182e-01],\n",
       "       [-4.53645787e+00, -8.64796112e-01],\n",
       "       [ 9.68778686e+00, -9.34263104e-01],\n",
       "       [ 1.86406762e+00, -1.77123059e+00],\n",
       "       [-9.40880647e+00, -5.27242171e-01],\n",
       "       [ 8.88682209e+00, -1.15590107e+00],\n",
       "       [-1.35924080e+01, -3.22257614e-01],\n",
       "       [-7.33035494e+00, -8.00747432e-01],\n",
       "       [-2.15857400e+00,  1.98492761e-01],\n",
       "       [ 3.29305760e+00,  2.98057052e-01],\n",
       "       [-5.62827880e+00, -3.94784066e-01],\n",
       "       [ 1.25968085e+01,  5.00707960e-01],\n",
       "       [-1.67289485e+01,  5.84082413e-01],\n",
       "       [-1.03127435e+01,  8.31265550e-02],\n",
       "       [ 8.79931990e+00,  2.85629326e-01],\n",
       "       [ 1.02648550e+01,  9.98031486e-01],\n",
       "       [ 1.72708998e+01, -6.81225990e-01],\n",
       "       [-2.22768208e+00, -1.00942475e+00],\n",
       "       [ 1.18410683e+01, -9.98921000e-01],\n",
       "       [-5.22362563e+00,  2.07316246e-01],\n",
       "       [ 1.21212766e+01,  5.05452874e-01],\n",
       "       [-6.98754432e+00,  1.19282212e+00],\n",
       "       [-3.60191984e-01,  8.22579638e-03],\n",
       "       [-1.33506481e+01,  2.57281311e-01],\n",
       "       [-1.48482029e+00,  1.22913377e+00],\n",
       "       [-7.00703283e+00,  1.88641837e-01],\n",
       "       [-2.97654683e+00,  6.42318699e-01],\n",
       "       [-1.30242677e+01,  8.71316544e-01],\n",
       "       [-1.41101933e+01,  1.44534278e-01],\n",
       "       [ 2.59922945e+00, -3.12227233e-01],\n",
       "       [-1.21216120e+01, -9.99103563e-01],\n",
       "       [ 3.10650137e+00, -1.16544797e-01],\n",
       "       [ 5.65988853e-01,  4.59204952e-01],\n",
       "       [ 1.08662714e+01,  4.51325660e-01],\n",
       "       [ 8.51839912e+00,  1.04722833e-01],\n",
       "       [ 4.73951802e+00,  3.33123778e-01],\n",
       "       [ 1.35161196e+01,  4.73180238e-01],\n",
       "       [-9.24180092e+00, -1.67723437e+00],\n",
       "       [ 7.09098978e+00, -1.22461322e-01],\n",
       "       [ 7.47963425e+00, -3.81362787e-01],\n",
       "       [ 9.76164812e+00,  2.10789914e-01],\n",
       "       [-1.06890923e+01,  1.32470177e+00],\n",
       "       [ 1.18292995e+01, -4.34411824e-01],\n",
       "       [ 8.39452334e+00,  6.14304323e-01],\n",
       "       [-2.22825654e+00,  2.52206990e-01],\n",
       "       [ 1.47927654e+00,  1.82912832e-02],\n",
       "       [ 9.90905073e+00,  6.11578177e-01],\n",
       "       [ 8.78906646e+00, -1.43899275e+00],\n",
       "       [-6.88785918e-01, -1.94290079e-01],\n",
       "       [-1.48981243e+01, -1.25344802e-01],\n",
       "       [-8.24499175e+00,  5.88315851e-01],\n",
       "       [-8.43481794e+00, -2.33040141e-01],\n",
       "       [-1.20452966e+01, -2.64949418e-01],\n",
       "       [-2.53098961e-01, -8.38251783e-01],\n",
       "       [-1.15719300e+01, -1.00990667e+00],\n",
       "       [ 8.97875191e+00, -1.64882595e-01],\n",
       "       [ 2.89342889e+00,  5.60628151e-01],\n",
       "       [ 5.20830158e+00,  5.02592420e-01],\n",
       "       [-1.41617031e+01, -1.65379423e-01],\n",
       "       [ 4.15585647e+00, -1.82282816e-01],\n",
       "       [-5.58253101e+00, -6.78482057e-02],\n",
       "       [ 1.36442532e+01,  4.87919582e-02],\n",
       "       [-2.86171593e+00, -1.50818109e-01]])"
      ]
     },
     "execution_count": 10,
     "metadata": {},
     "output_type": "execute_result"
    }
   ],
   "source": [
    "transformed = eigenvectors_sorted.dot(mean_centered.T).T\n",
    "transformed"
   ]
  },
  {
   "cell_type": "markdown",
   "metadata": {},
   "source": [
    "## Summary \n",
    "\n",
    "That's it! You just coded PCA on your own using NumPy! In the next lab, you'll continue to practice this on your own!"
   ]
  }
 ],
 "metadata": {
  "kernelspec": {
   "display_name": "Python 3",
   "language": "python",
   "name": "python3"
  },
  "language_info": {
   "codemirror_mode": {
    "name": "ipython",
    "version": 3
   },
   "file_extension": ".py",
   "mimetype": "text/x-python",
   "name": "python",
   "nbconvert_exporter": "python",
   "pygments_lexer": "ipython3",
   "version": "3.6.6"
  }
 },
 "nbformat": 4,
 "nbformat_minor": 2
}
